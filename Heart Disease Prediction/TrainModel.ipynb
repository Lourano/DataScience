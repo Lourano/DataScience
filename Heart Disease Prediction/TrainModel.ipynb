{
 "cells": [
  {
   "cell_type": "code",
   "execution_count": 17,
   "metadata": {},
   "outputs": [],
   "source": [
    "import pandas as pd\n",
    "import numpy as np\n",
    "from sklearn.tree import DecisionTreeClassifier\n",
    "from sklearn.ensemble import RandomForestClassifier\n",
    "from sklearn.ensemble import ExtraTreesClassifier\n",
    "from sklearn.ensemble import AdaBoostClassifier\n",
    "from sklearn.ensemble import GradientBoostingClassifier\n",
    "from sklearn.model_selection import cross_validate\n",
    "from sklearn.model_selection import train_test_split\n",
    "from sklearn.model_selection import GridSearchCV\n",
    "from sklearn.model_selection import StratifiedKFold\n",
    "from sklearn.metrics import roc_auc_score, accuracy_score, precision_score, recall_score, f1_score, classification_report\n",
    "\n",
    "import seaborn as sns\n",
    "import matplotlib.pyplot as plt\n",
    "%matplotlib inline"
   ]
  },
  {
   "cell_type": "code",
   "execution_count": 18,
   "metadata": {},
   "outputs": [],
   "source": [
    "DataSet = pd.read_csv('heart.csv')\n",
    "\n",
    "DataSet.rename(columns =\n",
    "{\n",
    "    'age': 'Age', 'sex':'Sex', 'cp':'PainType', 'trestbps':'RBloodPressure',\n",
    "                          \n",
    "    'chol':'SCholesterol', 'fbs':'FBSugar', 'restecg':'REGraphicResult',\n",
    "                          \n",
    "    'thalach': 'MaxHeartRateAchieved', 'exang':'ExertionalAngina',\n",
    "                          \n",
    "    'oldpeak':'OldPeakDepression', 'slope':'SlopeOfSTSegment',\n",
    "                          \n",
    "    'ca':'MajorVessels', 'thal':'Thalassemia',\n",
    "    \n",
    "    'target':'Target'\n",
    "\n",
    "}, inplace = True)"
   ]
  },
  {
   "cell_type": "code",
   "execution_count": 19,
   "metadata": {},
   "outputs": [
    {
     "data": {
      "text/html": [
       "<div>\n",
       "<style scoped>\n",
       "    .dataframe tbody tr th:only-of-type {\n",
       "        vertical-align: middle;\n",
       "    }\n",
       "\n",
       "    .dataframe tbody tr th {\n",
       "        vertical-align: top;\n",
       "    }\n",
       "\n",
       "    .dataframe thead th {\n",
       "        text-align: right;\n",
       "    }\n",
       "</style>\n",
       "<table border=\"1\" class=\"dataframe\">\n",
       "  <thead>\n",
       "    <tr style=\"text-align: right;\">\n",
       "      <th></th>\n",
       "      <th>Age</th>\n",
       "      <th>Sex</th>\n",
       "      <th>PainType</th>\n",
       "      <th>RBloodPressure</th>\n",
       "      <th>SCholesterol</th>\n",
       "      <th>FBSugar</th>\n",
       "      <th>REGraphicResult</th>\n",
       "      <th>MaxHeartRateAchieved</th>\n",
       "      <th>ExertionalAngina</th>\n",
       "      <th>OldPeakDepression</th>\n",
       "      <th>SlopeOfSTSegment</th>\n",
       "      <th>MajorVessels</th>\n",
       "      <th>Thalassemia</th>\n",
       "      <th>Target</th>\n",
       "    </tr>\n",
       "  </thead>\n",
       "  <tbody>\n",
       "    <tr>\n",
       "      <td>0</td>\n",
       "      <td>63</td>\n",
       "      <td>1</td>\n",
       "      <td>3</td>\n",
       "      <td>145</td>\n",
       "      <td>233</td>\n",
       "      <td>1</td>\n",
       "      <td>0</td>\n",
       "      <td>150</td>\n",
       "      <td>0</td>\n",
       "      <td>2.3</td>\n",
       "      <td>0</td>\n",
       "      <td>0</td>\n",
       "      <td>1</td>\n",
       "      <td>1</td>\n",
       "    </tr>\n",
       "    <tr>\n",
       "      <td>1</td>\n",
       "      <td>37</td>\n",
       "      <td>1</td>\n",
       "      <td>2</td>\n",
       "      <td>130</td>\n",
       "      <td>250</td>\n",
       "      <td>0</td>\n",
       "      <td>1</td>\n",
       "      <td>187</td>\n",
       "      <td>0</td>\n",
       "      <td>3.5</td>\n",
       "      <td>0</td>\n",
       "      <td>0</td>\n",
       "      <td>2</td>\n",
       "      <td>1</td>\n",
       "    </tr>\n",
       "    <tr>\n",
       "      <td>2</td>\n",
       "      <td>41</td>\n",
       "      <td>0</td>\n",
       "      <td>1</td>\n",
       "      <td>130</td>\n",
       "      <td>204</td>\n",
       "      <td>0</td>\n",
       "      <td>0</td>\n",
       "      <td>172</td>\n",
       "      <td>0</td>\n",
       "      <td>1.4</td>\n",
       "      <td>2</td>\n",
       "      <td>0</td>\n",
       "      <td>2</td>\n",
       "      <td>1</td>\n",
       "    </tr>\n",
       "    <tr>\n",
       "      <td>3</td>\n",
       "      <td>56</td>\n",
       "      <td>1</td>\n",
       "      <td>1</td>\n",
       "      <td>120</td>\n",
       "      <td>236</td>\n",
       "      <td>0</td>\n",
       "      <td>1</td>\n",
       "      <td>178</td>\n",
       "      <td>0</td>\n",
       "      <td>0.8</td>\n",
       "      <td>2</td>\n",
       "      <td>0</td>\n",
       "      <td>2</td>\n",
       "      <td>1</td>\n",
       "    </tr>\n",
       "    <tr>\n",
       "      <td>4</td>\n",
       "      <td>57</td>\n",
       "      <td>0</td>\n",
       "      <td>0</td>\n",
       "      <td>120</td>\n",
       "      <td>354</td>\n",
       "      <td>0</td>\n",
       "      <td>1</td>\n",
       "      <td>163</td>\n",
       "      <td>1</td>\n",
       "      <td>0.6</td>\n",
       "      <td>2</td>\n",
       "      <td>0</td>\n",
       "      <td>2</td>\n",
       "      <td>1</td>\n",
       "    </tr>\n",
       "  </tbody>\n",
       "</table>\n",
       "</div>"
      ],
      "text/plain": [
       "   Age  Sex  PainType  RBloodPressure  SCholesterol  FBSugar  REGraphicResult  \\\n",
       "0   63    1         3             145           233        1                0   \n",
       "1   37    1         2             130           250        0                1   \n",
       "2   41    0         1             130           204        0                0   \n",
       "3   56    1         1             120           236        0                1   \n",
       "4   57    0         0             120           354        0                1   \n",
       "\n",
       "   MaxHeartRateAchieved  ExertionalAngina  OldPeakDepression  \\\n",
       "0                   150                 0                2.3   \n",
       "1                   187                 0                3.5   \n",
       "2                   172                 0                1.4   \n",
       "3                   178                 0                0.8   \n",
       "4                   163                 1                0.6   \n",
       "\n",
       "   SlopeOfSTSegment  MajorVessels  Thalassemia  Target  \n",
       "0                 0             0            1       1  \n",
       "1                 0             0            2       1  \n",
       "2                 2             0            2       1  \n",
       "3                 2             0            2       1  \n",
       "4                 2             0            2       1  "
      ]
     },
     "execution_count": 19,
     "metadata": {},
     "output_type": "execute_result"
    }
   ],
   "source": [
    "DataSet.head()"
   ]
  },
  {
   "cell_type": "code",
   "execution_count": 20,
   "metadata": {},
   "outputs": [
    {
     "data": {
      "text/plain": [
       "Age                     0\n",
       "Sex                     0\n",
       "PainType                0\n",
       "RBloodPressure          0\n",
       "SCholesterol            0\n",
       "FBSugar                 0\n",
       "REGraphicResult         0\n",
       "MaxHeartRateAchieved    0\n",
       "ExertionalAngina        0\n",
       "OldPeakDepression       0\n",
       "SlopeOfSTSegment        0\n",
       "MajorVessels            0\n",
       "Thalassemia             0\n",
       "Target                  0\n",
       "dtype: int64"
      ]
     },
     "execution_count": 20,
     "metadata": {},
     "output_type": "execute_result"
    }
   ],
   "source": [
    "DataSet.isnull().sum()"
   ]
  },
  {
   "cell_type": "code",
   "execution_count": 25,
   "metadata": {},
   "outputs": [
    {
     "data": {
      "image/png": "[encoded data removed]",
      "text/plain": [
       "<Figure size 432x288 with 1 Axes>"
      ]
     },
     "metadata": {
      "needs_background": "light"
     },
     "output_type": "display_data"
    }
   ],
   "source": [
    "sns.countplot(DataSet['Target'], label = \"Sum\", palette = 'GnBu_d')\n",
    "\n",
    "plt.xlabel(\"0 = Haven't disease, 1 = Have disease\")\n",
    "\n",
    "plt.ylabel(\"Frequency\")\n",
    "\n",
    "plt.show()"
   ]
  },
  {
   "cell_type": "code",
   "execution_count": 26,
   "metadata": {},
   "outputs": [
    {
     "data": {
      "image/png": "[encoded data removed]",
      "text/plain": [
       "<Figure size 360x360 with 1 Axes>"
      ]
     },
     "metadata": {
      "needs_background": "light"
     },
     "output_type": "display_data"
    }
   ],
   "source": [
    "sns.catplot(x = 'Target', y = 'Age', kind = 'bar', data = DataSet, legend = False, palette = 'GnBu_d')\n",
    "\n",
    "plt.xlabel(\"0 - Haven't disease, 1 - Have disease\")\n",
    "\n",
    "plt.ylabel('Age')\n",
    "\n",
    "plt.show()"
   ]
  },
  {
   "cell_type": "code",
   "execution_count": 27,
   "metadata": {},
   "outputs": [
    {
     "data": {
      "image/png": "[encoded data removed]",
      "text/plain": [
       "<Figure size 360x360 with 1 Axes>"
      ]
     },
     "metadata": {
      "needs_background": "light"
     },
     "output_type": "display_data"
    }
   ],
   "source": [
    "sns.catplot(x = 'PainType', kind = 'count', hue = 'Target', data = DataSet, legend = False, palette = 'GnBu_d')\n",
    "\n",
    "plt.xlabel('Pain type(4 types)')\n",
    "\n",
    "plt.ylabel('Frequency')\n",
    "\n",
    "plt.legend([\"Haven't disease\", \"Have disease\"])\n",
    "\n",
    "plt.show()"
   ]
  },
  {
   "cell_type": "code",
   "execution_count": 28,
   "metadata": {},
   "outputs": [],
   "source": [
    "X = DataSet.drop(['Target'], axis = 1)\n",
    "\n",
    "Y = DataSet['Target']"
   ]
  },
  {
   "cell_type": "code",
   "execution_count": 29,
   "metadata": {},
   "outputs": [],
   "source": [
    "XTrain, XTest, YTrain, YTest = train_test_split(X, Y, test_size = 0.3, random_state = 101)"
   ]
  },
  {
   "cell_type": "code",
   "execution_count": 30,
   "metadata": {},
   "outputs": [
    {
     "data": {
      "text/plain": [
       "(212, 13)"
      ]
     },
     "execution_count": 30,
     "metadata": {},
     "output_type": "execute_result"
    }
   ],
   "source": [
    "XTrain.shape"
   ]
  },
  {
   "cell_type": "code",
   "execution_count": 31,
   "metadata": {},
   "outputs": [],
   "source": [
    "KFoldSplit = StratifiedKFold(n_splits = 5, shuffle = True, random_state = 101)\n",
    "\n",
    "ScoringMetrics = ['precision_macro', 'recall_macro' , 'f1_weighted']\n",
    "\n",
    "def CrossValidationFunction(Model):\n",
    "\n",
    "    SelectedModel = Model\n",
    "\n",
    "    ScoresResults = cross_validate(SelectedModel, XTrain, YTrain, scoring = ScoringMetrics, cv = KFoldSplit)\n",
    "\n",
    "    sorted(ScoresResults.keys())\n",
    "\n",
    "    SelectedModelTime = ScoresResults['fit_time'].mean()\n",
    "\n",
    "    SelectedModelPrecision = ScoresResults['test_precision_macro'].mean()\n",
    "\n",
    "    SelectedModelRecall = ScoresResults['test_recall_macro'].mean()\n",
    "\n",
    "    SelectedModelF1Score = ScoresResults['test_f1_weighted'].mean()\n",
    " \n",
    "    return np.array([SelectedModelTime, SelectedModelPrecision, SelectedModelRecall, SelectedModelF1Score])"
   ]
  },
  {
   "cell_type": "code",
   "execution_count": 32,
   "metadata": {},
   "outputs": [
    {
     "name": "stderr",
     "output_type": "stream",
     "text": [
      "/opt/anaconda3/lib/python3.7/site-packages/sklearn/ensemble/forest.py:245: FutureWarning: The default value of n_estimators will change from 10 in version 0.20 to 100 in 0.22.\n",
      "  \"10 in version 0.20 to 100 in 0.22.\", FutureWarning)\n",
      "/opt/anaconda3/lib/python3.7/site-packages/sklearn/ensemble/forest.py:245: FutureWarning: The default value of n_estimators will change from 10 in version 0.20 to 100 in 0.22.\n",
      "  \"10 in version 0.20 to 100 in 0.22.\", FutureWarning)\n",
      "/opt/anaconda3/lib/python3.7/site-packages/sklearn/ensemble/forest.py:245: FutureWarning: The default value of n_estimators will change from 10 in version 0.20 to 100 in 0.22.\n",
      "  \"10 in version 0.20 to 100 in 0.22.\", FutureWarning)\n",
      "/opt/anaconda3/lib/python3.7/site-packages/sklearn/ensemble/forest.py:245: FutureWarning: The default value of n_estimators will change from 10 in version 0.20 to 100 in 0.22.\n",
      "  \"10 in version 0.20 to 100 in 0.22.\", FutureWarning)\n",
      "/opt/anaconda3/lib/python3.7/site-packages/sklearn/ensemble/forest.py:245: FutureWarning: The default value of n_estimators will change from 10 in version 0.20 to 100 in 0.22.\n",
      "  \"10 in version 0.20 to 100 in 0.22.\", FutureWarning)\n",
      "/opt/anaconda3/lib/python3.7/site-packages/sklearn/ensemble/forest.py:245: FutureWarning: The default value of n_estimators will change from 10 in version 0.20 to 100 in 0.22.\n",
      "  \"10 in version 0.20 to 100 in 0.22.\", FutureWarning)\n",
      "/opt/anaconda3/lib/python3.7/site-packages/sklearn/ensemble/forest.py:245: FutureWarning: The default value of n_estimators will change from 10 in version 0.20 to 100 in 0.22.\n",
      "  \"10 in version 0.20 to 100 in 0.22.\", FutureWarning)\n",
      "/opt/anaconda3/lib/python3.7/site-packages/sklearn/ensemble/forest.py:245: FutureWarning: The default value of n_estimators will change from 10 in version 0.20 to 100 in 0.22.\n",
      "  \"10 in version 0.20 to 100 in 0.22.\", FutureWarning)\n",
      "/opt/anaconda3/lib/python3.7/site-packages/sklearn/ensemble/forest.py:245: FutureWarning: The default value of n_estimators will change from 10 in version 0.20 to 100 in 0.22.\n",
      "  \"10 in version 0.20 to 100 in 0.22.\", FutureWarning)\n",
      "/opt/anaconda3/lib/python3.7/site-packages/sklearn/ensemble/forest.py:245: FutureWarning: The default value of n_estimators will change from 10 in version 0.20 to 100 in 0.22.\n",
      "  \"10 in version 0.20 to 100 in 0.22.\", FutureWarning)\n"
     ]
    }
   ],
   "source": [
    "DecisionTreeClassifierRow = CrossValidationFunction(DecisionTreeClassifier())\n",
    "\n",
    "RandomForestClassifierRow = CrossValidationFunction(RandomForestClassifier())\n",
    "\n",
    "ExtraTreesClassifierRow = CrossValidationFunction(ExtraTreesClassifier())\n",
    "\n",
    "AdaBoostClassifierRow = CrossValidationFunction(AdaBoostClassifier())\n",
    "\n",
    "GradientBoostingClassifierRow = CrossValidationFunction(GradientBoostingClassifier())\n",
    "\n",
    "ComparisonOfModels = pd.DataFrame([DecisionTreeClassifierRow, RandomForestClassifierRow,\n",
    "                                   \n",
    "ExtraTreesClassifierRow, AdaBoostClassifierRow, GradientBoostingClassifierRow])"
   ]
  },
  {
   "cell_type": "code",
   "execution_count": 33,
   "metadata": {},
   "outputs": [],
   "source": [
    "NameOfModels = pd.Series(['Decision Tree', 'Random Forest', 'Extra Trees', \n",
    "                                                 \n",
    "'AdaBoost', 'XGBoost'])\n",
    "\n",
    "ComparisonOfModels.insert(loc = 0, column = 'Model', value = NameOfModels)\n",
    "\n",
    "ComparisonOfModels.rename(columns = {0: \"Fitting time\", 1: \"Precision\", 2: \"Recall\", 3: \"F score\"}, inplace = True)"
   ]
  },
  {
   "cell_type": "code",
   "execution_count": 34,
   "metadata": {},
   "outputs": [
    {
     "data": {
      "text/html": [
       "<div>\n",
       "<style scoped>\n",
       "    .dataframe tbody tr th:only-of-type {\n",
       "        vertical-align: middle;\n",
       "    }\n",
       "\n",
       "    .dataframe tbody tr th {\n",
       "        vertical-align: top;\n",
       "    }\n",
       "\n",
       "    .dataframe thead th {\n",
       "        text-align: right;\n",
       "    }\n",
       "</style>\n",
       "<table border=\"1\" class=\"dataframe\">\n",
       "  <thead>\n",
       "    <tr style=\"text-align: right;\">\n",
       "      <th></th>\n",
       "      <th>Model</th>\n",
       "      <th>Fitting time</th>\n",
       "      <th>Precision</th>\n",
       "      <th>Recall</th>\n",
       "      <th>F score</th>\n",
       "    </tr>\n",
       "  </thead>\n",
       "  <tbody>\n",
       "    <tr>\n",
       "      <td>0</td>\n",
       "      <td>Decision Tree</td>\n",
       "      <td>0.003827</td>\n",
       "      <td>0.734547</td>\n",
       "      <td>0.728817</td>\n",
       "      <td>0.734290</td>\n",
       "    </tr>\n",
       "    <tr>\n",
       "      <td>1</td>\n",
       "      <td>Random Forest</td>\n",
       "      <td>0.015595</td>\n",
       "      <td>0.767288</td>\n",
       "      <td>0.768033</td>\n",
       "      <td>0.768556</td>\n",
       "    </tr>\n",
       "    <tr>\n",
       "      <td>2</td>\n",
       "      <td>Extra Trees</td>\n",
       "      <td>0.011704</td>\n",
       "      <td>0.774986</td>\n",
       "      <td>0.776659</td>\n",
       "      <td>0.774425</td>\n",
       "    </tr>\n",
       "    <tr>\n",
       "      <td>3</td>\n",
       "      <td>AdaBoost</td>\n",
       "      <td>0.062165</td>\n",
       "      <td>0.778630</td>\n",
       "      <td>0.764636</td>\n",
       "      <td>0.770574</td>\n",
       "    </tr>\n",
       "    <tr>\n",
       "      <td>4</td>\n",
       "      <td>XGBoost</td>\n",
       "      <td>0.065554</td>\n",
       "      <td>0.790598</td>\n",
       "      <td>0.787440</td>\n",
       "      <td>0.791750</td>\n",
       "    </tr>\n",
       "  </tbody>\n",
       "</table>\n",
       "</div>"
      ],
      "text/plain": [
       "           Model  Fitting time  Precision    Recall   F score\n",
       "0  Decision Tree      0.003827   0.734547  0.728817  0.734290\n",
       "1  Random Forest      0.015595   0.767288  0.768033  0.768556\n",
       "2    Extra Trees      0.011704   0.774986  0.776659  0.774425\n",
       "3       AdaBoost      0.062165   0.778630  0.764636  0.770574\n",
       "4        XGBoost      0.065554   0.790598  0.787440  0.791750"
      ]
     },
     "execution_count": 34,
     "metadata": {},
     "output_type": "execute_result"
    }
   ],
   "source": [
    "ComparisonOfModels.head()"
   ]
  },
  {
   "cell_type": "code",
   "execution_count": 35,
   "metadata": {},
   "outputs": [
    {
     "name": "stderr",
     "output_type": "stream",
     "text": [
      "/opt/anaconda3/lib/python3.7/site-packages/sklearn/ensemble/forest.py:245: FutureWarning: The default value of n_estimators will change from 10 in version 0.20 to 100 in 0.22.\n",
      "  \"10 in version 0.20 to 100 in 0.22.\", FutureWarning)\n"
     ]
    },
    {
     "data": {
      "image/png": "[encoded data removed]",
      "text/plain": [
       "<Figure size 432x288 with 1 Axes>"
      ]
     },
     "metadata": {
      "needs_background": "light"
     },
     "output_type": "display_data"
    }
   ],
   "source": [
    "BestModel = ExtraTreesClassifier()\n",
    "\n",
    "BestModel.fit(XTrain, YTrain)\n",
    "\n",
    "Importances = BestModel.feature_importances_\n",
    "\n",
    "Indices = np.argsort(Importances)\n",
    "\n",
    "plt.xlabel(\"Feature Impurity, in interval [0,1]\")\n",
    "\n",
    "plt.ylabel(\"Order number of feature\")\n",
    "\n",
    "plt.barh(range(X.shape[1]), Importances[Indices], color = \"g\", align = \"center\")\n",
    "\n",
    "plt.yticks(range(X.shape[1]), Indices)\n",
    "\n",
    "plt.ylim([-1, X.shape[1]])\n",
    "\n",
    "plt.show()"
   ]
  },
  {
   "cell_type": "code",
   "execution_count": 36,
   "metadata": {},
   "outputs": [
    {
     "name": "stdout",
     "output_type": "stream",
     "text": [
      "By Train Set: -----------------------------------------\n",
      "               precision    recall  f1-score   support\n",
      "\n",
      "           0       1.00      1.00      1.00        94\n",
      "           1       1.00      1.00      1.00       118\n",
      "\n",
      "    accuracy                           1.00       212\n",
      "   macro avg       1.00      1.00      1.00       212\n",
      "weighted avg       1.00      1.00      1.00       212\n",
      "\n",
      "\n",
      "\n",
      "By Test Set: -----------------------------------------\n",
      "               precision    recall  f1-score   support\n",
      "\n",
      "           0       0.79      0.75      0.77        44\n",
      "           1       0.78      0.81      0.79        47\n",
      "\n",
      "    accuracy                           0.78        91\n",
      "   macro avg       0.78      0.78      0.78        91\n",
      "weighted avg       0.78      0.78      0.78        91\n",
      "\n"
     ]
    }
   ],
   "source": [
    "YPredictedTrain = BestModel.predict(XTrain)\n",
    "\n",
    "print(\"By Train Set: -----------------------------------------\\n\", classification_report(YTrain, YPredictedTrain))\n",
    "\n",
    "YPredictedTest = BestModel.predict(XTest)\n",
    "\n",
    "print(\"\\n\")\n",
    "\n",
    "print(\"By Test Set: -----------------------------------------\\n\" ,classification_report(YTest, YPredictedTest))"
   ]
  },
  {
   "cell_type": "code",
   "execution_count": 37,
   "metadata": {},
   "outputs": [
    {
     "name": "stdout",
     "output_type": "stream",
     "text": [
      "Fitting 5 folds for each of 18 candidates, totalling 90 fits\n"
     ]
    },
    {
     "name": "stderr",
     "output_type": "stream",
     "text": [
      "[Parallel(n_jobs=-1)]: Using backend LokyBackend with 4 concurrent workers.\n",
      "[Parallel(n_jobs=-1)]: Done  17 tasks      | elapsed:   12.8s\n",
      "[Parallel(n_jobs=-1)]: Done  90 out of  90 | elapsed:   37.1s finished\n",
      "/opt/anaconda3/lib/python3.7/site-packages/sklearn/model_selection/_search.py:814: DeprecationWarning: The default of the `iid` parameter will change from True to False in version 0.22 and will be removed in 0.24. This will change numeric results when test-set sizes are unequal.\n",
      "  DeprecationWarning)\n"
     ]
    },
    {
     "name": "stdout",
     "output_type": "stream",
     "text": [
      "Grid Search By Train Set: -----------------------------------------\n",
      "               precision    recall  f1-score   support\n",
      "\n",
      "           0       1.00      0.98      0.99        94\n",
      "           1       0.98      1.00      0.99       118\n",
      "\n",
      "    accuracy                           0.99       212\n",
      "   macro avg       0.99      0.99      0.99       212\n",
      "weighted avg       0.99      0.99      0.99       212\n",
      "\n",
      "\n",
      "\n",
      "Grid Search By Test Set: -----------------------------------------\n",
      "               precision    recall  f1-score   support\n",
      "\n",
      "           0       0.85      0.75      0.80        44\n",
      "           1       0.79      0.87      0.83        47\n",
      "\n",
      "    accuracy                           0.81        91\n",
      "   macro avg       0.82      0.81      0.81        91\n",
      "weighted avg       0.82      0.81      0.81        91\n",
      "\n"
     ]
    }
   ],
   "source": [
    "NumberOfTreesInForest = [600, 700, 800]\n",
    "\n",
    "QualityOfSplit = [\"gini\", \"entropy\"]\n",
    "\n",
    "MaximumDepthOfTree = [6, 7, 8]\n",
    "\n",
    "GridExternalParameters = dict(n_estimators = NumberOfTreesInForest, criterion = QualityOfSplit, max_depth = MaximumDepthOfTree)\n",
    "\n",
    "GridKFoldSplit = StratifiedKFold(n_splits = 5, shuffle = True, random_state = 101)\n",
    "\n",
    "GridSearch = GridSearchCV(BestModel, GridExternalParameters, scoring = \"f1\", cv = GridKFoldSplit, verbose = 4, n_jobs =-1)\n",
    "\n",
    "GridSearch.fit(XTrain, YTrain)\n",
    "\n",
    "YPredictedTrainGrid = GridSearch.predict(XTrain)\n",
    "\n",
    "print(\"Grid Search By Train Set: -----------------------------------------\\n\", classification_report(YTrain, YPredictedTrainGrid))\n",
    "\n",
    "YPredictedTestGrid = GridSearch.predict(XTest)\n",
    "\n",
    "print(\"\\n\")\n",
    "\n",
    "print(\"Grid Search By Test Set: -----------------------------------------\\n\" ,classification_report(YTest, YPredictedTestGrid))"
   ]
  },
  {
   "cell_type": "code",
   "execution_count": 38,
   "metadata": {},
   "outputs": [
    {
     "data": {
      "text/plain": [
       "0.8674695018949754"
      ]
     },
     "execution_count": 38,
     "metadata": {},
     "output_type": "execute_result"
    }
   ],
   "source": [
    "GridSearch.best_score_"
   ]
  },
  {
   "cell_type": "code",
   "execution_count": 39,
   "metadata": {},
   "outputs": [
    {
     "data": {
      "text/plain": [
       "{'criterion': 'entropy', 'max_depth': 8, 'n_estimators': 600}"
      ]
     },
     "execution_count": 39,
     "metadata": {},
     "output_type": "execute_result"
    }
   ],
   "source": [
    "GridSearch.best_params_"
   ]
  },
  {
   "cell_type": "code",
   "execution_count": 40,
   "metadata": {},
   "outputs": [
    {
     "name": "stderr",
     "output_type": "stream",
     "text": [
      "/opt/anaconda3/lib/python3.7/site-packages/sklearn/utils/deprecation.py:85: DeprecationWarning: Function plot_precision_recall_curve is deprecated; This will be removed in v0.5.0. Please use scikitplot.metrics.plot_precision_recall instead.\n",
      "  warnings.warn(msg, category=DeprecationWarning)\n"
     ]
    },
    {
     "data": {
      "text/plain": [
       "<matplotlib.axes._subplots.AxesSubplot at 0x1a2511d1d0>"
      ]
     },
     "execution_count": 40,
     "metadata": {},
     "output_type": "execute_result"
    },
    {
     "data": {
      "image/png": "[encoded data removed]",
      "text/plain": [
       "<Figure size 432x288 with 1 Axes>"
      ]
     },
     "metadata": {
      "needs_background": "light"
     },
     "output_type": "display_data"
    }
   ],
   "source": [
    "YPredictProbability = BestModel.predict_proba(XTest)\n",
    "\n",
    "import scikitplot as skplt\n",
    "\n",
    "skplt.metrics.plot_precision_recall_curve(YTest, YPredictProbability)"
   ]
  },
  {
   "cell_type": "code",
   "execution_count": 41,
   "metadata": {},
   "outputs": [
    {
     "ename": "NameError",
     "evalue": "name 'ExampleModel' is not defined",
     "output_type": "error",
     "traceback": [
      "\u001b[0;31m---------------------------------------------------------------------------\u001b[0m",
      "\u001b[0;31mNameError\u001b[0m                                 Traceback (most recent call last)",
      "\u001b[0;32m<ipython-input-41-d22a11118939>\u001b[0m in \u001b[0;36m<module>\u001b[0;34m\u001b[0m\n\u001b[1;32m      1\u001b[0m \u001b[0;32mfrom\u001b[0m \u001b[0msklearn\u001b[0m\u001b[0;34m.\u001b[0m\u001b[0mtree\u001b[0m \u001b[0;32mimport\u001b[0m \u001b[0mplot_tree\u001b[0m\u001b[0;34m\u001b[0m\u001b[0;34m\u001b[0m\u001b[0m\n\u001b[1;32m      2\u001b[0m \u001b[0;34m\u001b[0m\u001b[0m\n\u001b[0;32m----> 3\u001b[0;31m \u001b[0mplot_tree\u001b[0m\u001b[0;34m(\u001b[0m\u001b[0mExampleModel\u001b[0m\u001b[0;34m)\u001b[0m\u001b[0;34m\u001b[0m\u001b[0;34m\u001b[0m\u001b[0m\n\u001b[0m",
      "\u001b[0;31mNameError\u001b[0m: name 'ExampleModel' is not defined"
     ]
    }
   ],
   "source": [
    "from sklearn.tree import plot_tree\n",
    "\n",
    "plot_tree(ExampleModel)"
   ]
  },
  {
   "cell_type": "code",
   "execution_count": null,
   "metadata": {},
   "outputs": [],
   "source": [
    "from sklearn.tree import export_graphviz\n",
    "\n",
    "ExampleModel = DecisionTreeClassifier()\n",
    "\n",
    "ExampleModel.fit(XTrain, YTrain)\n",
    "\n",
    "export_graphviz(ExampleModel, out_file = 'tree.dot', feature_names = XTrain.columns, class_names = None,\n",
    "\n",
    "label = 'all', filled = True, impurity = True, node_ids = True, proportion = True, rotate = True)"
   ]
  }
 ],
 "metadata": {
  "kernelspec": {
   "display_name": "Python 3",
   "language": "python",
   "name": "python3"
  },
  "language_info": {
   "codemirror_mode": {
    "name": "ipython",
    "version": 3
   },
   "file_extension": ".py",
   "mimetype": "text/x-python",
   "name": "python",
   "nbconvert_exporter": "python",
   "pygments_lexer": "ipython3",
   "version": "3.7.4"
  }
 },
 "nbformat": 4,
 "nbformat_minor": 4
}
